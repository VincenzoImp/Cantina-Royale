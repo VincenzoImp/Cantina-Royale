{
 "cells": [
  {
   "cell_type": "code",
   "execution_count": 1,
   "metadata": {},
   "outputs": [],
   "source": [
    "import json\n",
    "import pandas as pd\n",
    "import re\n",
    "import nltk\n",
    "import nltk.corpus\n",
    "from nltk.corpus import stopwords\n",
    "from nltk.tokenize import sent_tokenize, word_tokenize\n",
    "from nltk.stem import PorterStemmer \n",
    "from nltk.tokenize import word_tokenize\n",
    "from nltk.stem import WordNetLemmatizer\n",
    "from nltk.sentiment.vader import SentimentIntensityAnalyzer\n",
    "from textblob import TextBlob\n",
    "\"\"\"\n",
    "nltk.download('vader_lexicon')\n",
    "nltk.download('stopwords')\n",
    "nltk.download('punkt')\n",
    "nltk.download('wordnet')\n",
    "nltk.download('omw-1.4')\n",
    "nltk.download('averaged_perceptron_tagger')\n",
    "\"\"\"\n",
    "nltk.data.path.append('./nltk_data')"
   ]
  },
  {
   "cell_type": "code",
   "execution_count": 2,
   "metadata": {},
   "outputs": [],
   "source": [
    "with open('result.json', encoding='utf8') as f:\n",
    "    data = json.load(f)"
   ]
  },
  {
   "cell_type": "code",
   "execution_count": 3,
   "metadata": {},
   "outputs": [],
   "source": [
    "def get_msg_df(df):\n",
    "    msg_df = df[df['type']=='message'].filter(items = ['id','from','text','from_id']).reset_index(drop=True)\n",
    "    tmp_msg_df = []\n",
    "    for index, row in msg_df.iterrows():\n",
    "        if type(row['text']) == list:\n",
    "            s = ''\n",
    "            for item in row['text']:\n",
    "                if type(item) == str:\n",
    "                    s += item\n",
    "                elif item['type'] != 'link':\n",
    "                    s += item['text']\n",
    "            row['text'] = s\n",
    "        s = ''\n",
    "        for c in row['text']:\n",
    "            c = c.lower()\n",
    "            if c.isalpha() or c.isdigit() or c == \"'\":\n",
    "                s += c\n",
    "            elif c == '?':\n",
    "                s += ' '+c+' '\n",
    "            else:\n",
    "                s += ' '\n",
    "        row['text'] = ' '.join(s.split())\n",
    "        tmp_msg_df.append(row)\n",
    "\n",
    "    tmp_msg_df = pd.DataFrame(tmp_msg_df).reset_index(drop=True)\n",
    "    msg_df['clean_text'] = tmp_msg_df['text']\n",
    "    msg_df = msg_df[msg_df['clean_text'] != ''].reset_index(drop=True)\n",
    "    return msg_df"
   ]
  },
  {
   "cell_type": "code",
   "execution_count": 4,
   "metadata": {},
   "outputs": [],
   "source": [
    "def get2_msg_df(df):\n",
    "\n",
    "    def preprocessing_msg_df(msg_df):\n",
    "        new_msg_df = []\n",
    "        for index, row in msg_df.iterrows():\n",
    "            if type(row['text']) == list:\n",
    "                s = ''\n",
    "                for item in row['text']:\n",
    "                    if type(item) == str:\n",
    "                        s += item\n",
    "                    else:\n",
    "                        s += item['text']\n",
    "                row['text'] = s\n",
    "            if row['text'] != '':\n",
    "                new_msg_df.append(row)\n",
    "        new_msg_df = pd.DataFrame(new_msg_df).reset_index(drop=True)\n",
    "        return new_msg_df\n",
    "\n",
    "    def cleaning_msg_df(msg_df):\n",
    "        msg_df['clean_text'] = msg_df['text'].str.lower()\n",
    "        msg_df['clean_text'] = msg_df['clean_text'].apply(lambda elem: re.sub(r\"(@[A-Za-z0-9]+)|([^0-9A-Za-z \\t])|(\\w+:\\/\\/\\S+)|^rt|http+?\", \"\", elem))  \n",
    "        return msg_df\n",
    "    \n",
    "    msg_df = df[df['type']=='message'].filter(items = ['id','from','text','from_id']).reset_index(drop=True)\n",
    "    msg_df = preprocessing_msg_df(msg_df)\n",
    "    msg_df = cleaning_msg_df(msg_df)\n",
    "    msg_df = msg_df[msg_df['clean_text'] != ''].reset_index(drop=True)\n",
    "    return msg_df"
   ]
  },
  {
   "cell_type": "code",
   "execution_count": 5,
   "metadata": {},
   "outputs": [],
   "source": [
    "df = pd.DataFrame(data['messages'])\n",
    "msg_df = get2_msg_df(df)"
   ]
  },
  {
   "cell_type": "code",
   "execution_count": 6,
   "metadata": {},
   "outputs": [],
   "source": [
    "stop = stopwords.words('english')\n",
    "msg_df['stopped_text'] = msg_df['clean_text'].apply(lambda x: ' '.join([word for word in x.split() if word not in (stop)]))"
   ]
  },
  {
   "cell_type": "code",
   "execution_count": 7,
   "metadata": {},
   "outputs": [],
   "source": [
    "msg_df['token_text'] = msg_df['stopped_text'].apply(lambda x: word_tokenize(x))"
   ]
  },
  {
   "cell_type": "code",
   "execution_count": 8,
   "metadata": {},
   "outputs": [],
   "source": [
    "def word_stemmer(text):\n",
    "    stem_text = [PorterStemmer().stem(i) for i in text]\n",
    "    return stem_text\n",
    "msg_df['stem_text'] = msg_df['token_text'].apply(lambda x: word_stemmer(x))"
   ]
  },
  {
   "cell_type": "code",
   "execution_count": 9,
   "metadata": {},
   "outputs": [],
   "source": [
    "def word_lemmatizer(text):\n",
    "    lem_text = [WordNetLemmatizer().lemmatize(i) for i in text]\n",
    "    return lem_text\n",
    "msg_df['lemma_text'] = msg_df['token_text'].apply(lambda x: word_lemmatizer(x))"
   ]
  },
  {
   "cell_type": "code",
   "execution_count": 10,
   "metadata": {},
   "outputs": [],
   "source": [
    "def word_pos_tagger(text):\n",
    "    pos_tagged_text = nltk.pos_tag(text)\n",
    "    return pos_tagged_text\n",
    "msg_df['pos_text'] = msg_df['token_text'].apply(lambda x: word_pos_tagger(x))"
   ]
  },
  {
   "cell_type": "code",
   "execution_count": 11,
   "metadata": {},
   "outputs": [],
   "source": [
    "msg_df['unstopped_token_text'] = msg_df['text'].apply(lambda x: word_tokenize(x.lower()))\n",
    "msg_df['unstopped_pos_text'] = msg_df['unstopped_token_text'].apply(lambda x: word_pos_tagger(x))"
   ]
  },
  {
   "cell_type": "code",
   "execution_count": 12,
   "metadata": {},
   "outputs": [],
   "source": [
    "msg_df['unstopped_blob_text'] = msg_df['text'].apply(lambda x: TextBlob(x).tags)"
   ]
  },
  {
   "cell_type": "code",
   "execution_count": 13,
   "metadata": {},
   "outputs": [],
   "source": [
    "sid = SentimentIntensityAnalyzer()\n",
    "d = {\n",
    "  'compound': 0,\n",
    "  'neg': 0,\n",
    "  'neu': 0,\n",
    "  'pos': 0\n",
    "}\n",
    "c=0\n",
    "for _, row in msg_df.iterrows():\n",
    "    sentence = row[\"stopped_text\"]\n",
    "    if sentence != '':\n",
    "        c+=1\n",
    "        ss = sid.polarity_scores(sentence)\n",
    "        for k in ss:\n",
    "            d[k] += ss[k]\n",
    "      \n",
    "for k in d:\n",
    "    d[k] = d[k]/c"
   ]
  },
  {
   "cell_type": "code",
   "execution_count": 14,
   "metadata": {},
   "outputs": [
    {
     "name": "stdout",
     "output_type": "stream",
     "text": [
      "{'compound': 0.1480606156274666, 'neg': 0.07638595106550902, 'neu': 0.6853930544593524, 'pos': 0.23743172849250221}\n",
      "pos: 75.65913074971019, neg: 24.340869250289813\n"
     ]
    }
   ],
   "source": [
    "print(d)\n",
    "pos = d['pos']*100/(d['pos']+d['neg'])\n",
    "neg = 100-pos\n",
    "print('pos: {}, neg: {}'.format(pos, neg))"
   ]
  },
  {
   "cell_type": "code",
   "execution_count": 15,
   "metadata": {},
   "outputs": [],
   "source": [
    "acc_df = msg_df.groupby('from_id', as_index=False).aggregate(list)"
   ]
  },
  {
   "cell_type": "code",
   "execution_count": 16,
   "metadata": {},
   "outputs": [],
   "source": [
    "acc_d = {}\n",
    "for index_r, row in acc_df.iterrows():\n",
    "    acc_d[index_r] = {}\n",
    "    for index_c, cell in row.items():\n",
    "        acc_d[index_r][index_c] = cell\n",
    "\n",
    "msg_d = {}\n",
    "for index_r, row in msg_df.iterrows():\n",
    "    msg_d[index_r] = {}\n",
    "    for index_c, cell in row.items():\n",
    "        msg_d[index_r][index_c] = cell"
   ]
  },
  {
   "cell_type": "code",
   "execution_count": 17,
   "metadata": {},
   "outputs": [],
   "source": [
    "with open('acc_d.json', 'w') as f:\n",
    "    json.dump(acc_d, f, indent=4)\n",
    "with open('msg_d.json', 'w') as f:\n",
    "    json.dump(msg_d, f, indent=4)"
   ]
  }
 ],
 "metadata": {
  "kernelspec": {
   "display_name": "Python 3.9.13 ('blockchain')",
   "language": "python",
   "name": "python3"
  },
  "language_info": {
   "codemirror_mode": {
    "name": "ipython",
    "version": 3
   },
   "file_extension": ".py",
   "mimetype": "text/x-python",
   "name": "python",
   "nbconvert_exporter": "python",
   "pygments_lexer": "ipython3",
   "version": "3.9.13"
  },
  "orig_nbformat": 4,
  "vscode": {
   "interpreter": {
    "hash": "93f22f4d4f0cf103124be230d217caee56206290cfe5f504a87707d671b2908a"
   }
  }
 },
 "nbformat": 4,
 "nbformat_minor": 2
}
