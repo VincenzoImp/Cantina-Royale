{
 "cells": [
  {
   "cell_type": "code",
   "execution_count": 17,
   "metadata": {},
   "outputs": [],
   "source": [
    "import json\n",
    "import pandas as pd\n",
    "import re\n",
    "import nltk\n",
    "import nltk.corpus\n",
    "from nltk.corpus import stopwords\n",
    "from nltk.tokenize import sent_tokenize, word_tokenize\n",
    "from nltk.stem import PorterStemmer \n",
    "from nltk.tokenize import word_tokenize\n",
    "from nltk.stem import WordNetLemmatizer\n",
    "from nltk.sentiment.vader import SentimentIntensityAnalyzer\n",
    "from textblob import TextBlob\n",
    "\"\"\"\n",
    "nltk.download('vader_lexicon')\n",
    "nltk.download('stopwords')\n",
    "nltk.download('punkt')\n",
    "nltk.download('wordnet')\n",
    "nltk.download('omw-1.4')\n",
    "nltk.download('averaged_perceptron_tagger')\n",
    "\"\"\"\n",
    "nltk.data.path.append('./nltk_data')"
   ]
  },
  {
   "cell_type": "code",
   "execution_count": 18,
   "metadata": {},
   "outputs": [],
   "source": [
    "with open('result.json', encoding='utf8') as f:\n",
    "    data = json.load(f)"
   ]
  },
  {
   "cell_type": "code",
   "execution_count": 19,
   "metadata": {},
   "outputs": [],
   "source": [
    "def get_msg_df(df):\n",
    "    msg_df = df[df['type']=='message'].filter(items = ['id','from','text','from_id']).reset_index(drop=True)\n",
    "    tmp_msg_df = []\n",
    "    for index, row in msg_df.iterrows():\n",
    "        if type(row['text']) == list:\n",
    "            s = ''\n",
    "            for item in row['text']:\n",
    "                if type(item) == str:\n",
    "                    s += item\n",
    "                elif item['type'] != 'link':\n",
    "                    s += item['text']\n",
    "            row['text'] = s\n",
    "        s = ''\n",
    "        for c in row['text']:\n",
    "            c = c.lower()\n",
    "            if c.isalpha() or c.isdigit() or c == \"'\":\n",
    "                s += c\n",
    "            elif c == '?':\n",
    "                s += ' '+c+' '\n",
    "            else:\n",
    "                s += ' '\n",
    "        row['text'] = ' '.join(s.split())\n",
    "        tmp_msg_df.append(row)\n",
    "\n",
    "    tmp_msg_df = pd.DataFrame(tmp_msg_df).reset_index(drop=True)\n",
    "    msg_df['clean_text'] = tmp_msg_df['text']\n",
    "    msg_df = msg_df[msg_df['clean_text'] != ''].reset_index(drop=True)\n",
    "    return msg_df"
   ]
  },
  {
   "cell_type": "code",
   "execution_count": 20,
   "metadata": {},
   "outputs": [],
   "source": [
    "def get2_msg_df(df):\n",
    "\n",
    "    def preprocessing_msg_df(msg_df):\n",
    "        new_msg_df = []\n",
    "        for index, row in msg_df.iterrows():\n",
    "            if type(row['text']) == list:\n",
    "                s = ''\n",
    "                for item in row['text']:\n",
    "                    if type(item) == str:\n",
    "                        s += item\n",
    "                    else:\n",
    "                        s += item['text']\n",
    "                row['text'] = s\n",
    "            if row['text'] != '':\n",
    "                new_msg_df.append(row)\n",
    "        new_msg_df = pd.DataFrame(new_msg_df).reset_index(drop=True)\n",
    "        return new_msg_df\n",
    "\n",
    "    def cleaning_msg_df(msg_df):\n",
    "        msg_df['clean_text'] = msg_df['text'].str.lower()\n",
    "        msg_df['clean_text'] = msg_df['clean_text'].apply(lambda elem: re.sub(r\"(@[A-Za-z0-9]+)|([^0-9A-Za-z \\t])|(\\w+:\\/\\/\\S+)|^rt|http+?\", \"\", elem))  \n",
    "        return msg_df\n",
    "    \n",
    "    msg_df = df[df['type']=='message'].filter(items = ['id','from','text','from_id']).reset_index(drop=True)\n",
    "    msg_df = preprocessing_msg_df(msg_df)\n",
    "    msg_df = cleaning_msg_df(msg_df)\n",
    "    msg_df = msg_df[msg_df['clean_text'] != ''].reset_index(drop=True)\n",
    "    return msg_df"
   ]
  },
  {
   "cell_type": "code",
   "execution_count": 21,
   "metadata": {},
   "outputs": [],
   "source": [
    "df = pd.DataFrame(data['messages'])\n",
    "msg_df = get2_msg_df(df)"
   ]
  },
  {
   "cell_type": "code",
   "execution_count": 22,
   "metadata": {},
   "outputs": [],
   "source": [
    "stop = stopwords.words('english')\n",
    "msg_df['stopped_text'] = msg_df['clean_text'].apply(lambda x: ' '.join([word for word in x.split() if word not in (stop)]))"
   ]
  },
  {
   "cell_type": "code",
   "execution_count": 23,
   "metadata": {},
   "outputs": [],
   "source": [
    "msg_df['token_text'] = msg_df['stopped_text'].apply(lambda x: word_tokenize(x))"
   ]
  },
  {
   "cell_type": "code",
   "execution_count": 24,
   "metadata": {},
   "outputs": [],
   "source": [
    "def word_stemmer(text):\n",
    "    stem_text = [PorterStemmer().stem(i) for i in text]\n",
    "    return stem_text\n",
    "msg_df['stem_text'] = msg_df['token_text'].apply(lambda x: word_stemmer(x))"
   ]
  },
  {
   "cell_type": "code",
   "execution_count": 25,
   "metadata": {},
   "outputs": [],
   "source": [
    "def word_lemmatizer(text):\n",
    "    lem_text = [WordNetLemmatizer().lemmatize(i) for i in text]\n",
    "    return lem_text\n",
    "msg_df['lemma_text'] = msg_df['token_text'].apply(lambda x: word_lemmatizer(x))"
   ]
  },
  {
   "cell_type": "code",
   "execution_count": 26,
   "metadata": {},
   "outputs": [],
   "source": [
    "def word_pos_tagger(text):\n",
    "    pos_tagged_text = nltk.pos_tag(text)\n",
    "    return pos_tagged_text\n",
    "msg_df['pos_text'] = msg_df['token_text'].apply(lambda x: word_pos_tagger(x))"
   ]
  },
  {
   "cell_type": "code",
   "execution_count": 27,
   "metadata": {},
   "outputs": [],
   "source": [
    "msg_df['unstopped_token_text'] = msg_df['text'].apply(lambda x: word_tokenize(x.lower()))\n",
    "msg_df['unstopped_pos_text'] = msg_df['unstopped_token_text'].apply(lambda x: word_pos_tagger(x))"
   ]
  },
  {
   "cell_type": "code",
   "execution_count": 28,
   "metadata": {},
   "outputs": [],
   "source": [
    "msg_df['unstopped_blob_text'] = msg_df['text'].apply(lambda x: TextBlob(x).tags)"
   ]
  },
  {
   "cell_type": "code",
   "execution_count": 29,
   "metadata": {},
   "outputs": [],
   "source": [
    "sid = SentimentIntensityAnalyzer()\n",
    "d = {\n",
    "  'compound': 0,\n",
    "  'neg': 0,\n",
    "  'neu': 0,\n",
    "  'pos': 0\n",
    "}\n",
    "c=0\n",
    "for _, row in msg_df.iterrows():\n",
    "    sentence = row[\"stopped_text\"]\n",
    "    if sentence != '':\n",
    "        c+=1\n",
    "        ss = sid.polarity_scores(sentence)\n",
    "        for k in ss:\n",
    "            d[k] += ss[k]\n",
    "      \n",
    "for k in d:\n",
    "    d[k] = d[k]/c"
   ]
  },
  {
   "cell_type": "code",
   "execution_count": 30,
   "metadata": {},
   "outputs": [
    {
     "name": "stdout",
     "output_type": "stream",
     "text": [
      "{'compound': 0.17103038538467244, 'neg': 0.053342289213765756, 'neu': 0.7039266346372145, 'pos': 0.2393503103284715}\n",
      "pos: 81.77532014912862, neg: 18.224679850871382\n"
     ]
    }
   ],
   "source": [
    "print(d)\n",
    "pos = d['pos']*100/(d['pos']+d['neg'])\n",
    "neg = 100-pos\n",
    "print('pos: {}, neg: {}'.format(pos, neg))"
   ]
  },
  {
   "cell_type": "code",
   "execution_count": 31,
   "metadata": {},
   "outputs": [],
   "source": [
    "acc_df = msg_df.groupby('from_id', as_index=False).aggregate(list)"
   ]
  },
  {
   "cell_type": "code",
   "execution_count": 32,
   "metadata": {},
   "outputs": [],
   "source": [
    "acc_df.to_csv('acc_df.csv')\n",
    "msg_df.to_csv('msg_df.csv')"
   ]
  }
 ],
 "metadata": {
  "kernelspec": {
   "display_name": "Python 3.9.13 ('stable')",
   "language": "python",
   "name": "python3"
  },
  "language_info": {
   "codemirror_mode": {
    "name": "ipython",
    "version": 3
   },
   "file_extension": ".py",
   "mimetype": "text/x-python",
   "name": "python",
   "nbconvert_exporter": "python",
   "pygments_lexer": "ipython3",
   "version": "3.9.13"
  },
  "orig_nbformat": 4,
  "vscode": {
   "interpreter": {
    "hash": "731c43eb56f848c5bca9de05efde814bd49b40cfac306b2f8be57987981a1007"
   }
  }
 },
 "nbformat": 4,
 "nbformat_minor": 2
}
