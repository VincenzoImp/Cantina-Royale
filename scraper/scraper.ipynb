{
 "cells": [
  {
   "cell_type": "code",
   "execution_count": 2,
   "metadata": {},
   "outputs": [],
   "source": [
    "import multiversx_utils as mu\n",
    "import json"
   ]
  },
  {
   "cell_type": "code",
   "execution_count": 3,
   "metadata": {},
   "outputs": [],
   "source": [
    "collections = ['CRMYTH-546419', 'CRWEAPONS-e5ab49', 'GSPACEAPE-08bc2b', 'CEA-2d29f9', 'CRCHAMPS-d0265d', 'CRHEROES-9edff2']\n",
    "weapons = ['CRMYTH-546419', 'CRWEAPONS-e5ab49']\n",
    "champions = ['GSPACEAPE-08bc2b', 'CEA-2d29f9', 'CRCHAMPS-d0265d', 'CRHEROES-9edff2']\n",
    "collections = ['CRMYTH-546419', 'CRCHAMPS-d0265d', 'CRHEROES-9edff2']\n",
    "collections = ['CRWEAPONS-e5ab49']"
   ]
  },
  {
   "cell_type": "code",
   "execution_count": 4,
   "metadata": {},
   "outputs": [
    {
     "name": "stderr",
     "output_type": "stream",
     "text": [
      "get_collection_nfts('CRWEAPONS-e5ab49'): 100%|██████████| 2302/2302 [00:28<00:00, 79.47it/s] \n",
      "get_collection_offchain_data('CRWEAPONS-e5ab49'): 100%|██████████| 2302/2302 [46:12<00:00,  1.20s/it]  \n"
     ]
    }
   ],
   "source": [
    "for collection_name in collections:\n",
    "    collection_info = mu.get_collection_info(collection_name)\n",
    "    collection_nfts = mu.get_collection_nfts(collection_name)\n",
    "    if collection_name in champions:\n",
    "        sleep_time = 0.2\n",
    "    elif collection_name in weapons:\n",
    "        sleep_time = 0.6\n",
    "    else:\n",
    "        sleep_time = 1\n",
    "    collection_offchain_data = mu.get_collection_offchain_data(collection_nfts, sleep_time=sleep_time, whitelist=['https://metadata.verko.io/dynamic/', 'https://metadata.cantinaroyale.io/dynamic/'])\n",
    "    for identifier in collection_nfts:\n",
    "        collection_nfts[identifier]['offchain_data'] = collection_offchain_data[identifier]\n",
    "    with open(f'{collection_name}_info.json', 'w') as f:\n",
    "        json.dump(collection_info, f, indent=4)\n",
    "    with open(f'{collection_name}_nfts.json', 'w') as f:\n",
    "        json.dump(collection_nfts, f, indent=4)"
   ]
  }
 ],
 "metadata": {
  "kernelspec": {
   "display_name": "stable",
   "language": "python",
   "name": "python3"
  },
  "language_info": {
   "codemirror_mode": {
    "name": "ipython",
    "version": 3
   },
   "file_extension": ".py",
   "mimetype": "text/x-python",
   "name": "python",
   "nbconvert_exporter": "python",
   "pygments_lexer": "ipython3",
   "version": "3.10.14"
  }
 },
 "nbformat": 4,
 "nbformat_minor": 2
}
