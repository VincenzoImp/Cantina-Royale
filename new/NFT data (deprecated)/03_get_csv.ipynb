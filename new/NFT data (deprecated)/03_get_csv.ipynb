{
 "cells": [
  {
   "cell_type": "code",
   "execution_count": 44,
   "metadata": {},
   "outputs": [],
   "source": [
    "import json\n",
    "import pandas as pd"
   ]
  },
  {
   "cell_type": "code",
   "execution_count": 45,
   "metadata": {},
   "outputs": [],
   "source": [
    "collection = 'CEA-2d29f9'"
   ]
  },
  {
   "cell_type": "code",
   "execution_count": 46,
   "metadata": {},
   "outputs": [],
   "source": [
    "with open(f'{collection}_nfts.json') as f:\n",
    "    json_data = json.load(f)"
   ]
  },
  {
   "cell_type": "code",
   "execution_count": 47,
   "metadata": {},
   "outputs": [],
   "source": [
    "nfts_data = {\n",
    "    'identifier': [],\n",
    "    'nonce': [],\n",
    "    'originalUrl': [],\n",
    "    'thumbnailUrl': [],\n",
    "    'id': [],\n",
    "    'rank': [],\n",
    "}\n",
    "if collection == 'GSPACEAPE-08bc2b' or collection == 'CEA-2d29f9':\n",
    "    nfts_data['stats'] = []\n",
    "traits_data = {}\n",
    "for nft in json_data.values():\n",
    "    nfts_data['identifier'].append(nft['identifier'])\n",
    "    nfts_data['nonce'].append(nft['nonce'])\n",
    "    nfts_data['originalUrl'].append(nft['media'][0]['originalUrl'])\n",
    "    nfts_data['thumbnailUrl'].append(nft['media'][0]['thumbnailUrl'])\n",
    "    nfts_data['id'].append(nft['metadata']['id'])\n",
    "    nfts_data['rank'].append(nft['rank'])\n",
    "    if collection == 'GSPACEAPE-08bc2b' or collection == 'CEA-2d29f9':\n",
    "        nfts_data['stats'].append(nft['metadata']['stats'])\n",
    "    traits_data[nft['identifier']] = {}\n",
    "    for trait in nft['metadata']['attributes']:\n",
    "        traits_data[nft['identifier']][trait['trait_type']] = trait['value']\n",
    "    for k, v in nft['verko']['gameData'][0]['dynamicData'].items():\n",
    "        if k == 'talents':\n",
    "            for talent in v:\n",
    "                traits_data[nft['identifier']][talent['name']] = talent['value']\n",
    "        else:\n",
    "            traits_data[nft['identifier']][k] = v"
   ]
  },
  {
   "cell_type": "code",
   "execution_count": 48,
   "metadata": {},
   "outputs": [],
   "source": [
    "nfts_data = pd.DataFrame.from_dict(nfts_data)"
   ]
  },
  {
   "cell_type": "code",
   "execution_count": 49,
   "metadata": {},
   "outputs": [],
   "source": [
    "traits_data = pd.DataFrame.from_dict(traits_data, orient='index').reset_index().rename(columns={'index': 'identifier'})"
   ]
  },
  {
   "cell_type": "code",
   "execution_count": 50,
   "metadata": {},
   "outputs": [],
   "source": [
    "data = pd.merge(nfts_data, traits_data, on='identifier')"
   ]
  },
  {
   "cell_type": "code",
   "execution_count": 51,
   "metadata": {},
   "outputs": [],
   "source": [
    "data.to_csv(f'{collection}_nfts.csv', index=False)"
   ]
  }
 ],
 "metadata": {
  "kernelspec": {
   "display_name": "stable",
   "language": "python",
   "name": "python3"
  },
  "language_info": {
   "codemirror_mode": {
    "name": "ipython",
    "version": 3
   },
   "file_extension": ".py",
   "mimetype": "text/x-python",
   "name": "python",
   "nbconvert_exporter": "python",
   "pygments_lexer": "ipython3",
   "version": "3.11.5"
  }
 },
 "nbformat": 4,
 "nbformat_minor": 2
}
