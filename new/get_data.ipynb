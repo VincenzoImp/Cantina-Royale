{
 "cells": [
  {
   "cell_type": "code",
   "execution_count": 31,
   "metadata": {},
   "outputs": [],
   "source": [
    "import multiversx_utils as mu\n",
    "import json\n",
    "import pandas as pd\n",
    "import os"
   ]
  },
  {
   "cell_type": "code",
   "execution_count": 32,
   "metadata": {},
   "outputs": [],
   "source": [
    "data_folder_path = 'data'\n",
    "collections = ['CRMYTH-546419', 'CRWEAPONS-e5ab49', 'GSPACEAPE-08bc2b', 'CEA-2d29f9', 'CRCHAMPS-d0265d', 'CRHEROES-9edff2', 'EAPES-8f3c1f']\n",
    "operations = {\n",
    "    'info': True,\n",
    "    'nfts_raw': True,\n",
    "    'nfts_processed': True,\n",
    "    'txs': False\n",
    "}\n",
    "params = {\n",
    "    'CRMYTH-546419': {\n",
    "        'sleep_time': 0.6,\n",
    "        'whitelist': ['https://metadata.cantinaroyale.io/dynamic/']\n",
    "    },\n",
    "    'CRWEAPONS-e5ab49': {\n",
    "        'sleep_time': 0.6,\n",
    "        'whitelist': ['https://metadata.cantinaroyale.io/dynamic/']\n",
    "    },\n",
    "    'GSPACEAPE-08bc2b': {\n",
    "        'sleep_time': 0.2,\n",
    "        'whitelist': ['https://metadata.verko.io/dynamic/']\n",
    "    },\n",
    "    'CEA-2d29f9': {\n",
    "        'sleep_time': 0.2,\n",
    "        'whitelist': ['https://metadata.verko.io/dynamic/']\n",
    "    },\n",
    "    'CRCHAMPS-d0265d': {\n",
    "        'sleep_time': 0.6,\n",
    "        'whitelist': ['https://metadata.cantinaroyale.io/dynamic/', 'https://metadata.cantinaroyale.io/metadata/']\n",
    "    },\n",
    "    'CRHEROES-9edff2': {\n",
    "        'sleep_time': 0.6,\n",
    "        'whitelist': ['https://metadata.cantinaroyale.io/dynamic/', 'https://metadata.cantinaroyale.io/metadata/']\n",
    "    },\n",
    "    'EAPES-8f3c1f': {\n",
    "        'sleep_time': 0,\n",
    "        'whitelist': []\n",
    "    }\n",
    "}"
   ]
  },
  {
   "cell_type": "code",
   "execution_count": 33,
   "metadata": {},
   "outputs": [],
   "source": [
    "def get_collection_info(collection_name, collection_folder_path):\n",
    "    collection_info = mu.get_collection_info(collection_name)\n",
    "    filename = os.path.join(collection_folder_path, 'info.json')\n",
    "    with open(filename, 'w') as f:\n",
    "        json.dump(collection_info, f, indent=4)\n",
    "    return\n",
    "\n",
    "def get_collection_nfts_raw(collection_name, collection_folder_path, params):\n",
    "    collection_nfts = mu.get_collection_nfts(collection_name)\n",
    "    sleep_time = params[collection_name]['sleep_time']\n",
    "    whitelist = params[collection_name]['whitelist']\n",
    "    collection_offchain_data = mu.get_collection_offchain_data(collection_nfts, sleep_time=sleep_time, whitelist=whitelist)\n",
    "    for identifier in collection_nfts:\n",
    "        collection_nfts[identifier]['offchain_data'] = collection_offchain_data[identifier]\n",
    "    filename = os.path.join(collection_folder_path, 'nfts_raw.json')\n",
    "    with open(filename, 'w') as f:\n",
    "        json.dump(collection_nfts, f, indent=4)\n",
    "    return\n",
    "\n",
    "def get_collection_nfts_processed(collection_name, collection_folder_path):\n",
    "    filename = os.path.join(collection_folder_path, 'nfts_raw.json')\n",
    "    with open(filename, 'r') as f:\n",
    "        collection_nfts = json.load(f)\n",
    "    collection = {}\n",
    "    for nft in collection_nfts.values():\n",
    "        nft_data = mu.parse_nft_data(nft)\n",
    "        for key, value in nft_data.items():\n",
    "            if key not in collection:\n",
    "                collection[key] = []\n",
    "            collection[key].append(value)\n",
    "    filename = os.path.join(collection_folder_path, 'nfts_processed.csv')\n",
    "    collection = pd.DataFrame(collection)\n",
    "    collection.to_csv(filename, index=False)\n",
    "    collection.index = collection['identifier']\n",
    "    collection = collection.to_dict('index')\n",
    "    for identifier, data in collection.items():\n",
    "        for key, value in data.items():\n",
    "            if pd.isna(value):\n",
    "                collection[identifier][key] = None\n",
    "    filename = os.path.join(collection_folder_path, 'nfts_processed.json')\n",
    "    with open(filename, 'w') as f:\n",
    "        json.dump(collection, f, indent=4)\n",
    "    return\n",
    "\n",
    "def get_collection_txs(collection_name, collection_folder_path):\n",
    "    collection_txs = mu.get_collection_txs(collection_name)\n",
    "    filename = os.path.join(collection_folder_path, 'txs.json')\n",
    "    with open(filename, 'w') as f:\n",
    "        json.dump(collection_txs, f, indent=4)\n",
    "    return"
   ]
  },
  {
   "cell_type": "code",
   "execution_count": 34,
   "metadata": {},
   "outputs": [
    {
     "name": "stderr",
     "output_type": "stream",
     "text": [
      "get_collection_nfts('CRMYTH-546419'): 100%|██████████| 584/584 [00:03<00:00, 192.86it/s]\n",
      "get_collection_offchain_data('CRMYTH-546419'): 100%|██████████| 584/584 [10:20<00:00,  1.06s/it]  \n"
     ]
    }
   ],
   "source": [
    "for collection_name in collections:\n",
    "    collection_folder_path = os.path.join(data_folder_path, collection_name)\n",
    "    if not os.path.exists(collection_folder_path):\n",
    "        os.makedirs(collection_folder_path)\n",
    "    if operations['info']:\n",
    "        get_collection_info(collection_name, collection_folder_path)\n",
    "    if operations['nfts_raw']:\n",
    "        get_collection_nfts_raw(collection_name, collection_folder_path, params)\n",
    "    if operations['nfts_processed']:\n",
    "        get_collection_nfts_processed(collection_name, collection_folder_path)\n",
    "    if operations['txs']:\n",
    "        get_collection_txs(collection_name, collection_folder_path)"
   ]
  }
 ],
 "metadata": {
  "kernelspec": {
   "display_name": "stable",
   "language": "python",
   "name": "python3"
  },
  "language_info": {
   "codemirror_mode": {
    "name": "ipython",
    "version": 3
   },
   "file_extension": ".py",
   "mimetype": "text/x-python",
   "name": "python",
   "nbconvert_exporter": "python",
   "pygments_lexer": "ipython3",
   "version": "3.10.14"
  }
 },
 "nbformat": 4,
 "nbformat_minor": 2
}
