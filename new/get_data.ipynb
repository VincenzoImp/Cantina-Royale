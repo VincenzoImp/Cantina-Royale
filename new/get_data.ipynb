{
 "cells": [
  {
   "cell_type": "code",
   "execution_count": 1,
   "metadata": {},
   "outputs": [],
   "source": [
    "import multiversx_utils as mu\n",
    "import json\n",
    "import pandas as pd"
   ]
  },
  {
   "cell_type": "code",
   "execution_count": 2,
   "metadata": {},
   "outputs": [],
   "source": [
    "collections = ['CRMYTH-546419', 'CRWEAPONS-e5ab49', 'GSPACEAPE-08bc2b', 'CEA-2d29f9', 'CRCHAMPS-d0265d', 'CRHEROES-9edff2', 'EAPES-8f3c1f']\n",
    "info = False\n",
    "nfts_json = False\n",
    "nfts_csv = False\n",
    "txs = False"
   ]
  },
  {
   "cell_type": "code",
   "execution_count": null,
   "metadata": {},
   "outputs": [],
   "source": [
    "params = {\n",
    "    'CRMYTH-546419': {\n",
    "        'sleep_time': 0.6,\n",
    "        'whitelist': ['https://metadata.cantinaroyale.io/dynamic/']\n",
    "    },\n",
    "    'CRWEAPONS-e5ab49': {\n",
    "        'sleep_time': 0.6,\n",
    "        'whitelist': ['https://metadata.cantinaroyale.io/dynamic/']\n",
    "    },\n",
    "    'GSPACEAPE-08bc2b': {\n",
    "        'sleep_time': 0.2,\n",
    "        'whitelist': ['https://metadata.verko.io/dynamic/']\n",
    "    },\n",
    "    'CEA-2d29f9': {\n",
    "        'sleep_time': 0.2,\n",
    "        'whitelist': ['https://metadata.verko.io/dynamic/']\n",
    "    },\n",
    "    'CRCHAMPS-d0265d': {\n",
    "        'sleep_time': 0.6,\n",
    "        'whitelist': ['https://metadata.cantinaroyale.io/dynamic/', 'https://metadata.cantinaroyale.io/metadata/']\n",
    "    },\n",
    "    'CRHEROES-9edff2': {\n",
    "        'sleep_time': 0.6,\n",
    "        'whitelist': ['https://metadata.cantinaroyale.io/dynamic/', 'https://metadata.cantinaroyale.io/metadata/']\n",
    "    },\n",
    "    'EAPES-8f3c1f': {\n",
    "        'sleep_time': 0,\n",
    "        'whitelist': []\n",
    "    }\n",
    "}"
   ]
  },
  {
   "cell_type": "code",
   "execution_count": null,
   "metadata": {},
   "outputs": [],
   "source": [
    "def get_collection_info(collection_name):\n",
    "    collection_info = mu.get_collection_info(collection_name)\n",
    "    with open(f'data/{collection_name}_info.json', 'w') as f:\n",
    "        json.dump(collection_info, f, indent=4)\n",
    "\n",
    "def get_collection_nfts_json(collection_name):\n",
    "    collection_nfts = mu.get_collection_nfts(collection_name)\n",
    "    sleep_time = params[collection_name]['sleep_time']\n",
    "    whitelist = params[collection_name]['whitelist']\n",
    "    collection_offchain_data = mu.get_collection_offchain_data(collection_nfts, sleep_time=sleep_time, whitelist=whitelist)\n",
    "    for identifier in collection_nfts:\n",
    "        collection_nfts[identifier]['offchain_data'] = collection_offchain_data[identifier]\n",
    "    with open(f'data/{collection_name}_nfts.json', 'w') as f:\n",
    "        json.dump(collection_nfts, f, indent=4)\n",
    "\n",
    "def get_collection_nfts_csv(collection_name):\n",
    "    with open(f'data/{collection_name}_nfts.json', 'r') as f:\n",
    "        collection_nfts = json.load(f)\n",
    "    collection = {}\n",
    "    for nft in collection_nfts.values():\n",
    "        nft_data = mu.parse_nft_data(nft)\n",
    "        for key, value in nft_data.items():\n",
    "            if key not in collection:\n",
    "                collection[key] = []\n",
    "            collection[key].append(value)\n",
    "    pd.DataFrame(collection).to_csv(f'{collection_name}_nfts.csv', index=False)\n",
    "\n",
    "def get_collection_txs(collection_name):\n",
    "    collection_transactions = mu.get_collection_txs(collection_name)\n",
    "    with open(f'data/{collection_name}_txs.json', 'w') as f:\n",
    "        json.dump(collection_transactions, f, indent=4)"
   ]
  },
  {
   "cell_type": "code",
   "execution_count": null,
   "metadata": {},
   "outputs": [],
   "source": [
    "for collection_name in collections:\n",
    "    if info:\n",
    "        get_collection_info(collection_name)\n",
    "    if nfts_json:\n",
    "        get_collection_nfts_json(collection_name)\n",
    "    if nfts_csv:\n",
    "        get_collection_nfts_csv(collection_name)\n",
    "    if txs:\n",
    "        get_collection_txs(collection_name)"
   ]
  }
 ],
 "metadata": {
  "kernelspec": {
   "display_name": "stable",
   "language": "python",
   "name": "python3"
  },
  "language_info": {
   "codemirror_mode": {
    "name": "ipython",
    "version": 3
   },
   "file_extension": ".py",
   "mimetype": "text/x-python",
   "name": "python",
   "nbconvert_exporter": "python",
   "pygments_lexer": "ipython3",
   "version": "3.10.14"
  }
 },
 "nbformat": 4,
 "nbformat_minor": 2
}
