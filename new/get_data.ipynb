{
 "cells": [
  {
   "cell_type": "code",
   "execution_count": 1,
   "metadata": {},
   "outputs": [],
   "source": [
    "import multiversx_utils as mu\n",
    "import json\n",
    "import os"
   ]
  },
  {
   "cell_type": "code",
   "execution_count": 5,
   "metadata": {},
   "outputs": [],
   "source": [
    "data_folder_path = 'data'\n",
    "collections = ['CRMYTH-546419', 'CRWEAPONS-e5ab49', 'GSPACEAPE-08bc2b', 'CEA-2d29f9', 'CRCHAMPS-d0265d', 'CRHEROES-9edff2', 'EAPES-8f3c1f']\n",
    "collections = ['GSPACEAPE-08bc2b', 'CEA-2d29f9', 'CRCHAMPS-d0265d', 'CRHEROES-9edff2', 'EAPES-8f3c1f']\n",
    "operations = {\n",
    "    'info': True,\n",
    "    'nfts_raw': True,\n",
    "    'nfts_processed': True,\n",
    "    'txs': False\n",
    "}\n",
    "params = {\n",
    "    'CRMYTH-546419': {\n",
    "        'sleep_time': 0.6,\n",
    "        'whitelist': ['https://metadata.cantinaroyale.io/dynamic/']\n",
    "    },\n",
    "    'CRWEAPONS-e5ab49': {\n",
    "        'sleep_time': 0.6,\n",
    "        'whitelist': ['https://metadata.cantinaroyale.io/dynamic/']\n",
    "    },\n",
    "    'GSPACEAPE-08bc2b': {\n",
    "        'sleep_time': 0.2,\n",
    "        'whitelist': ['https://metadata.verko.io/dynamic/']\n",
    "    },\n",
    "    'CEA-2d29f9': {\n",
    "        'sleep_time': 0.2,\n",
    "        'whitelist': ['https://metadata.verko.io/dynamic/']\n",
    "    },\n",
    "    'CRCHAMPS-d0265d': {\n",
    "        'sleep_time': 0.6,\n",
    "        'whitelist': ['https://metadata.cantinaroyale.io/dynamic/', 'https://metadata.cantinaroyale.io/metadata/']\n",
    "    },\n",
    "    'CRHEROES-9edff2': {\n",
    "        'sleep_time': 0.6,\n",
    "        'whitelist': ['https://metadata.cantinaroyale.io/dynamic/', 'https://metadata.cantinaroyale.io/metadata/']\n",
    "    },\n",
    "    'EAPES-8f3c1f': {\n",
    "        'sleep_time': 0,\n",
    "        'whitelist': []\n",
    "    }\n",
    "}"
   ]
  },
  {
   "cell_type": "code",
   "execution_count": 6,
   "metadata": {},
   "outputs": [],
   "source": [
    "def get_collection_info(collection_name, collection_folder_path):\n",
    "    collection_info = mu.get_collection_info(collection_name)\n",
    "    filename = os.path.join(collection_folder_path, 'info.json')\n",
    "    with open(filename, 'w') as f:\n",
    "        json.dump(collection_info, f, indent=4)\n",
    "    return\n",
    "\n",
    "def get_collection_nfts_raw(collection_name, collection_folder_path, sleep_time, whitelist):\n",
    "    collection_nfts = mu.get_collection_nfts(collection_name)\n",
    "    collection_offchain_data = mu.get_collection_offchain_data(collection_nfts, sleep_time=sleep_time, whitelist=whitelist)\n",
    "    for identifier in collection_nfts:\n",
    "        collection_nfts[identifier]['offchainData'] = collection_offchain_data[identifier]\n",
    "    filename = os.path.join(collection_folder_path, 'nfts_raw.json')\n",
    "    with open(filename, 'w') as f:\n",
    "        json.dump(collection_nfts, f, indent=4)\n",
    "    return\n",
    "\n",
    "def get_collection_nfts_processed(collection_name, collection_folder_path):\n",
    "    filename = os.path.join(collection_folder_path, 'nfts_raw.json')\n",
    "    with open(filename, 'r') as f:\n",
    "        collection_nfts = json.load(f)\n",
    "    collection_nfts_processed = {}\n",
    "    for identifier, nft in collection_nfts.items():\n",
    "        collection_nfts_processed[identifier] = mu.parse_nft_data(nft)\n",
    "    filename = os.path.join(collection_folder_path, 'nfts_processed.json')\n",
    "    with open(filename, 'w') as f:\n",
    "        json.dump(collection_nfts_processed, f, indent=4)\n",
    "    return\n",
    "\n",
    "def get_collection_txs(collection_name, collection_folder_path):\n",
    "    collection_txs = mu.get_collection_txs(collection_name)\n",
    "    filename = os.path.join(collection_folder_path, 'txs.json')\n",
    "    with open(filename, 'w') as f:\n",
    "        json.dump(collection_txs, f, indent=4)\n",
    "    return"
   ]
  },
  {
   "cell_type": "code",
   "execution_count": 7,
   "metadata": {},
   "outputs": [
    {
     "name": "stderr",
     "output_type": "stream",
     "text": [
      "get_collection_nfts('GSPACEAPE-08bc2b'): 100%|██████████| 14192/14192 [01:21<00:00, 174.28it/s]\n",
      "get_collection_offchain_data('GSPACEAPE-08bc2b'): 100%|██████████| 14192/14192 [1:44:33<00:00,  2.26it/s] \n",
      "get_collection_nfts('CEA-2d29f9'): 100%|██████████| 2050/2050 [00:13<00:00, 151.63it/s]\n",
      "get_collection_offchain_data('CEA-2d29f9'): 100%|██████████| 2050/2050 [15:38<00:00,  2.18it/s]\n",
      "get_collection_nfts('CRCHAMPS-d0265d'): 100%|██████████| 598/598 [00:03<00:00, 163.24it/s]\n",
      "get_collection_offchain_data('CRCHAMPS-d0265d'): 100%|██████████| 598/598 [21:01<00:00,  2.11s/it]  \n",
      "get_collection_nfts('CRHEROES-9edff2'): 100%|██████████| 600/600 [00:02<00:00, 225.91it/s]\n",
      "get_collection_offchain_data('CRHEROES-9edff2'): 100%|██████████| 600/600 [22:06<00:00,  2.21s/it]  \n",
      "get_collection_nfts('EAPES-8f3c1f'): 100%|██████████| 10000/10000 [00:50<00:00, 198.82it/s]\n",
      "get_collection_offchain_data('EAPES-8f3c1f'): 100%|██████████| 10000/10000 [09:49<00:00, 16.97it/s]\n"
     ]
    }
   ],
   "source": [
    "for collection_name in collections:\n",
    "    collection_folder_path = os.path.join(data_folder_path, collection_name)\n",
    "    if not os.path.exists(collection_folder_path):\n",
    "        os.makedirs(collection_folder_path)\n",
    "    if operations['info']:\n",
    "        get_collection_info(collection_name, collection_folder_path)\n",
    "    if operations['nfts_raw']:\n",
    "        get_collection_nfts_raw(collection_name, collection_folder_path, params[collection_name]['sleep_time'], params[collection_name]['whitelist'])\n",
    "    if operations['nfts_processed']:\n",
    "        get_collection_nfts_processed(collection_name, collection_folder_path)\n",
    "    if operations['txs']:\n",
    "        get_collection_txs(collection_name, collection_folder_path)"
   ]
  }
 ],
 "metadata": {
  "kernelspec": {
   "display_name": "stable",
   "language": "python",
   "name": "python3"
  },
  "language_info": {
   "codemirror_mode": {
    "name": "ipython",
    "version": 3
   },
   "file_extension": ".py",
   "mimetype": "text/x-python",
   "name": "python",
   "nbconvert_exporter": "python",
   "pygments_lexer": "ipython3",
   "version": "3.10.14"
  }
 },
 "nbformat": 4,
 "nbformat_minor": 2
}
