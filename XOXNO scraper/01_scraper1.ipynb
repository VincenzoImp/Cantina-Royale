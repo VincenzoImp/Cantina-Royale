{
 "cells": [
  {
   "cell_type": "code",
   "execution_count": 1,
   "metadata": {},
   "outputs": [],
   "source": [
    "import requests \n",
    "import time\n",
    "from tqdm import tqdm\n",
    "import json\n",
    "from multiprocessing import Pool\n",
    "from fake_useragent import UserAgent"
   ]
  },
  {
   "cell_type": "code",
   "execution_count": 2,
   "metadata": {},
   "outputs": [],
   "source": [
    "collection = 'CRWEAPONS-e5ab49'\n",
    "sleep_time = 0.4"
   ]
  },
  {
   "cell_type": "code",
   "execution_count": 3,
   "metadata": {},
   "outputs": [],
   "source": [
    "url = f'https://api.elrond.com/collections/{collection}'\n",
    "collection_info = requests.get(url).json()"
   ]
  },
  {
   "cell_type": "code",
   "execution_count": 4,
   "metadata": {},
   "outputs": [],
   "source": [
    "identifiers = set()"
   ]
  },
  {
   "cell_type": "code",
   "execution_count": 5,
   "metadata": {},
   "outputs": [
    {
     "name": "stderr",
     "output_type": "stream",
     "text": [
      " 22%|██▏       | 22/100 [00:21<01:16,  1.02it/s]\n"
     ]
    }
   ],
   "source": [
    "start, stop, step = 0, 10000, 100\n",
    "for i in tqdm(range(start, stop, step)):\n",
    "    url = f'https://api.elrond.com/collections/{collection}/nfts?from={i}&size={step}'\n",
    "    response = requests.get(url, headers={'User-Agent': UserAgent().random})\n",
    "    response = response.json()\n",
    "    if len(response) == 0:\n",
    "        break\n",
    "    identifiers.update({nft['identifier'] for nft in response})\n",
    "    time.sleep(sleep_time)\n",
    "identifiers = list(identifiers)"
   ]
  },
  {
   "cell_type": "code",
   "execution_count": 6,
   "metadata": {},
   "outputs": [],
   "source": [
    "def foo(chunk):\n",
    "    sub_nfts = {}\n",
    "    try:\n",
    "        for identifier in chunk:\n",
    "            time.sleep(sleep_time)\n",
    "            url = f'https://api.elrond.com/nfts/{identifier}'\n",
    "            headers = {'User-Agent': UserAgent().random}\n",
    "            sub_nfts[identifier] = requests.get(url, headers=headers).json()\n",
    "    except:\n",
    "        pass\n",
    "    return sub_nfts"
   ]
  },
  {
   "cell_type": "code",
   "execution_count": 7,
   "metadata": {},
   "outputs": [],
   "source": [
    "nfts = {}"
   ]
  },
  {
   "cell_type": "code",
   "execution_count": 8,
   "metadata": {},
   "outputs": [
    {
     "name": "stderr",
     "output_type": "stream",
     "text": [
      "100%|██████████| 2138/2138 [35:26<00:00,  1.01it/s]  \n"
     ]
    }
   ],
   "source": [
    "while True:\n",
    "    to_compute = [identifier for identifier in identifiers if identifier not in nfts]\n",
    "    for identifier in tqdm(to_compute):\n",
    "        try:\n",
    "            time.sleep(sleep_time)\n",
    "            url = f'https://api.elrond.com/nfts/{identifier}'\n",
    "            headers = {'User-Agent': UserAgent().random}\n",
    "            nfts[identifier] = requests.get(url, headers=headers).json()\n",
    "        except:\n",
    "            pass\n",
    "    if len(nfts) == len(identifiers):\n",
    "        break\n",
    "    time.sleep(sleep_time*40)"
   ]
  },
  {
   "cell_type": "code",
   "execution_count": 9,
   "metadata": {},
   "outputs": [],
   "source": [
    "with open(f'{collection}_info.json', 'w') as f:\n",
    "    json.dump(collection_info, f, indent=4)\n",
    "with open(f'{collection}_nfts.json', 'w') as f:\n",
    "    json.dump(nfts, f, indent=4)"
   ]
  },
  {
   "cell_type": "code",
   "execution_count": 10,
   "metadata": {},
   "outputs": [],
   "source": [
    "with open(f'{collection}_info.json', 'r') as f:\n",
    "    collection_info = json.load(f)\n",
    "with open(f'{collection}_nfts.json', 'r') as f:\n",
    "    nfts = json.load(f)"
   ]
  },
  {
   "cell_type": "code",
   "execution_count": 11,
   "metadata": {},
   "outputs": [],
   "source": [
    "xoxno = {}"
   ]
  },
  {
   "cell_type": "code",
   "execution_count": 12,
   "metadata": {},
   "outputs": [
    {
     "name": "stderr",
     "output_type": "stream",
     "text": [
      "100%|██████████| 2138/2138 [10:34<00:00,  3.37it/s]\n"
     ]
    }
   ],
   "source": [
    "import scraper_utilities as su\n",
    "from selenium import webdriver\n",
    "from selenium.webdriver.common.by import By\n",
    "\n",
    "driver = webdriver.Firefox()\n",
    "currency_path = '/html/body/div[1]/div[1]/main/div[2]/div[2]/div[3]/div[1]/div[2]/div[1]/div[1]/div/div/div/img'\n",
    "amount_path = '/html/body/div[1]/div[1]/main/div[2]/div[2]/div[3]/div[1]/div[2]/div[1]/div[1]/div/div/div/span'\n",
    "xoxno_address = 'erd1qqqqqqqqqqqqqpgq6wegs2xkypfpync8mn2sa5cmpqjlvrhwz5nqgepyg8'\n",
    "for identifier, nft in tqdm(nfts.items()):\n",
    "    if nft['owner'] == xoxno_address:\n",
    "        try:\n",
    "            url = f'https://xoxno.com/nft/{identifier}'\n",
    "            driver.get(url)\n",
    "            time.sleep(0.2)\n",
    "            currency = driver.find_element(By.XPATH, currency_path).get_attribute('src').split('/')[-1].split('.')[0]\n",
    "            amount = driver.find_element(By.XPATH, amount_path).text\n",
    "            amount = float(amount.replace('K', ''))*1000 if 'K' in amount else float(amount)\n",
    "            xoxno[identifier] = {\n",
    "                'price': {\n",
    "                    'currency': currency,\n",
    "                    'amount': amount,\n",
    "                }\n",
    "            }\n",
    "        except Exception as e:\n",
    "            pass\n",
    "driver.close()"
   ]
  },
  {
   "cell_type": "code",
   "execution_count": 13,
   "metadata": {},
   "outputs": [],
   "source": [
    "with open(f'{collection}_xoxno.json', 'w') as f:\n",
    "    json.dump(xoxno, f, indent=4)"
   ]
  }
 ],
 "metadata": {
  "kernelspec": {
   "display_name": "stable",
   "language": "python",
   "name": "python3"
  },
  "language_info": {
   "codemirror_mode": {
    "name": "ipython",
    "version": 3
   },
   "file_extension": ".py",
   "mimetype": "text/x-python",
   "name": "python",
   "nbconvert_exporter": "python",
   "pygments_lexer": "ipython3",
   "version": "3.9.16"
  }
 },
 "nbformat": 4,
 "nbformat_minor": 2
}
