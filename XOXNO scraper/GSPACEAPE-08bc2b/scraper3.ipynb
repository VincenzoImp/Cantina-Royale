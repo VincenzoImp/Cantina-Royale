{
 "cells": [
  {
   "cell_type": "code",
   "execution_count": null,
   "metadata": {},
   "outputs": [],
   "source": [
    "from selenium import webdriver\n",
    "from selenium_stealth import stealth\n",
    "from selenium.webdriver.common.by import By\n",
    "import time\n",
    "from tqdm import tqdm\n",
    "import json\n",
    "\n",
    "def open_driver():\n",
    "        options = webdriver.ChromeOptions()\n",
    "        options.add_argument(\"start-maximized\")\n",
    "        options.add_argument(\"--disable-notifications\")\n",
    "        # options.add_argument(\"--headless\")\n",
    "\n",
    "        options.add_experimental_option(\"excludeSwitches\", [\"enable-automation\"])\n",
    "        options.add_experimental_option('useAutomationExtension', False)\n",
    "        driver = webdriver.Chrome(options=options)\n",
    "\n",
    "        stealth(driver,\n",
    "                languages=[\"en-US\", \"en\"],\n",
    "                vendor=\"Google Inc.\",\n",
    "                platform=\"Win32\",\n",
    "                webgl_vendor=\"Intel Inc.\",\n",
    "                renderer=\"Intel Iris OpenGL Engine\",\n",
    "                fix_hairline=True,\n",
    "                )\n",
    "        return driver"
   ]
  },
  {
   "cell_type": "code",
   "execution_count": null,
   "metadata": {},
   "outputs": [],
   "source": [
    "with open('results.json', 'r') as f:\n",
    "    results = json.load(f)"
   ]
  },
  {
   "cell_type": "code",
   "execution_count": null,
   "metadata": {},
   "outputs": [],
   "source": [
    "d = {}"
   ]
  },
  {
   "cell_type": "code",
   "execution_count": null,
   "metadata": {},
   "outputs": [],
   "source": [
    "def foo(driver, ids, d):\n",
    "    for id in tqdm(ids):\n",
    "        try:\n",
    "            time.sleep(1)\n",
    "            driver.find_element(By.ID, 'search1').send_keys(id)\n",
    "            driver.find_element(By.ID, 'search1-right').click()\n",
    "            time.sleep(1)\n",
    "            driver.find_element(By.CLASS_NAME, 'virtuoso-grid-item').find_element(By.TAG_NAME, 'img').click()\n",
    "            tmp = {\n",
    "                'About': {},\n",
    "                'Attributes': {},\n",
    "                'Game Info': {}\n",
    "            }\n",
    "            time.sleep(1)\n",
    "            for row in driver.find_element(By.CLASS_NAME, 'about-nft-info').find_elements(By.CLASS_NAME, 'flex'):\n",
    "                key, value = row.find_elements(By.TAG_NAME, 'div')\n",
    "                if key.text[:-1] == 'Owner':\n",
    "                    tmp['About'][key.text[:-1]] = value.find_element(By.TAG_NAME, 'a').get_attribute('href').split('/')[-1]\n",
    "                elif key.text[:-1] == 'Rank':\n",
    "                    tmp['About'][key.text[:-1]] = int(value.text)\n",
    "                elif key.text[:-1] == 'Royalties':\n",
    "                    tmp['About'][key.text[:-1]] = int(value.text[:-1])\n",
    "                else:\n",
    "                    tmp[key.text[:-1]] = value.text\n",
    "            for row in driver.find_elements(By.CLASS_NAME, 'overflow-auto'):\n",
    "                key, value = row.find_element(By.TAG_NAME, 'p').text.split(':')\n",
    "                key, value = key.strip(), value.strip()\n",
    "                tmp['Attributes'][key] = value\n",
    "            driver.find_element(By.ID, 'Game Info').click()\n",
    "            time.sleep(1)\n",
    "            for row in driver.find_elements(By.CLASS_NAME, 'single-nft-attribute'):\n",
    "                key, value = row.find_elements(By.TAG_NAME, 'div')\n",
    "                if key.text[:-1] == 'EarnRate':\n",
    "                    tmp['Game Info'][key.text[:-1]] = float(value.text)\n",
    "                else:\n",
    "                    tmp['Game Info'][key.text[:-1]] = int(value.text)\n",
    "            driver.find_element(By.CLASS_NAME, 'nft-tab-item').click()\n",
    "            time.sleep(1)\n",
    "            driver.find_element(By.ID, 'search1-clear').click()\n",
    "            driver.execute_script(\"window.scrollTo(0, 0);\")\n",
    "            driver.find_element(By.CLASS_NAME, 'nft-tab-item').find_element(By.CLASS_NAME, 'absolute').click()\n",
    "            d[str(id)] = tmp\n",
    "        except:\n",
    "            url = f'https://xoxno.com/collection/GSPACEAPE-08bc2b'\n",
    "            driver.get(url)\n",
    "    return d"
   ]
  },
  {
   "cell_type": "code",
   "execution_count": null,
   "metadata": {},
   "outputs": [],
   "source": [
    "while d.keys() != results.keys():\n",
    "    driver = open_driver()\n",
    "    url = f'https://xoxno.com/collection/GSPACEAPE-08bc2b'\n",
    "    driver.get(url)\n",
    "    ids = [x for x in results.keys() if x not in d.keys()]\n",
    "    d = foo(driver, ids, d)\n",
    "    driver.close()\n",
    "    with open('XOXNO.json', 'w') as f:\n",
    "        json.dump(d, f, indent=4)"
   ]
  },
  {
   "cell_type": "code",
   "execution_count": null,
   "metadata": {},
   "outputs": [],
   "source": [
    "with open('XOXNO.json', 'w') as f:\n",
    "    json.dump(d, f, indent=4)"
   ]
  }
 ],
 "metadata": {
  "kernelspec": {
   "display_name": "stable",
   "language": "python",
   "name": "python3"
  },
  "language_info": {
   "codemirror_mode": {
    "name": "ipython",
    "version": 3
   },
   "file_extension": ".py",
   "mimetype": "text/x-python",
   "name": "python",
   "nbconvert_exporter": "python",
   "pygments_lexer": "ipython3",
   "version": "3.11.5"
  }
 },
 "nbformat": 4,
 "nbformat_minor": 2
}
