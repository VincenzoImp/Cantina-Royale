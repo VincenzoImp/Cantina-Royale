{
 "cells": [
  {
   "cell_type": "code",
   "execution_count": 103,
   "metadata": {},
   "outputs": [],
   "source": [
    "import pandas as pd\n",
    "import json"
   ]
  },
  {
   "cell_type": "code",
   "execution_count": 104,
   "metadata": {},
   "outputs": [],
   "source": [
    "with open('results.json', 'r') as f:\n",
    "    results = json.load(f)\n",
    "with open('XOXNO.json', 'r') as f:\n",
    "    xoxno = json.load(f)"
   ]
  },
  {
   "cell_type": "code",
   "execution_count": 105,
   "metadata": {},
   "outputs": [],
   "source": [
    "total = {}\n",
    "for k, v in xoxno.items():\n",
    "    total[k] = {\n",
    "        'xoxno': v,\n",
    "        'verko': results[k]['verko'],\n",
    "        'ipfs': results[k]['ipfs'],\n",
    "        'price': results[k]['price']\n",
    "    }"
   ]
  },
  {
   "cell_type": "code",
   "execution_count": 106,
   "metadata": {},
   "outputs": [],
   "source": [
    "with open('total.json', 'w') as f:\n",
    "    json.dump(total, f)"
   ]
  },
  {
   "cell_type": "code",
   "execution_count": 107,
   "metadata": {},
   "outputs": [],
   "source": [
    "total_df = None\n",
    "total_dict = {}"
   ]
  },
  {
   "cell_type": "code",
   "execution_count": 108,
   "metadata": {},
   "outputs": [],
   "source": [
    "for id in total:\n",
    "    d = {}\n",
    "    d['price'] = total[id]['price']\n",
    "    for k, v in total[id]['ipfs'].items():\n",
    "        if k != 'attributes':\n",
    "            d[k] = v\n",
    "    for item in total[id]['ipfs']['attributes']:\n",
    "        k, v = item['trait_type'], item['value']\n",
    "        d[k] = v\n",
    "    d['collectionName'] = total[id]['verko']['collectionName']\n",
    "    d['gameName'] = total[id]['verko']['gameData'][0]['gameName']\n",
    "    for k, v in total[id]['verko']['gameData'][0]['dynamicData'].items():\n",
    "        if k != 'talents':\n",
    "            d[k] = v\n",
    "    for item in total[id]['verko']['gameData'][0]['dynamicData']['talents']:\n",
    "        k, v = item['name'], item['value']\n",
    "        d[k] = v\n",
    "    if total_df is None:\n",
    "        total_df = pd.DataFrame(d, index=[0])\n",
    "    else:\n",
    "        total_df = pd.concat([total_df, pd.DataFrame(d, index=[0])], ignore_index=True)\n",
    "    total_dict[id] = d"
   ]
  },
  {
   "cell_type": "code",
   "execution_count": 109,
   "metadata": {},
   "outputs": [],
   "source": [
    "with open('total_dict.json', 'w') as f:\n",
    "    json.dump(total_dict, f, indent=4)\n",
    "total_df.to_csv('total_df.csv', index=False)"
   ]
  },
  {
   "cell_type": "code",
   "execution_count": 110,
   "metadata": {},
   "outputs": [],
   "source": [
    "l = {}\n",
    "for k, v in total_dict.items():\n",
    "    for k2, v2 in total[k]['xoxno']['Attributes'].items():\n",
    "        if v[k2] != v2:\n",
    "            print(k, k2, v[k2], v2)\n",
    "    for k2, v2 in total[k]['xoxno']['Game Info'].items():\n",
    "        if k2 == 'Level':\n",
    "            k2 = 'level'\n",
    "        if k2 == 'EarnRate':\n",
    "            k2 = 'earn_rate'\n",
    "        try:\n",
    "            if v[k2] != v2:\n",
    "                if k not in l:\n",
    "                    l[k] = []\n",
    "                l[k].append(k2)\n",
    "        except KeyError:\n",
    "            if k not in l:\n",
    "                l[k] = []\n",
    "            l[k].append(k2)"
   ]
  },
  {
   "cell_type": "code",
   "execution_count": 111,
   "metadata": {},
   "outputs": [
    {
     "name": "stdout",
     "output_type": "stream",
     "text": [
      "14211 4 1\n",
      "4097 4 1\n",
      "4841 2 1\n",
      "6037 3 1\n",
      "7055 4 1\n",
      "832 2 1\n",
      "13052 13 3\n",
      "14782 5 1\n",
      "4085 9 2\n",
      "7080 8 2\n"
     ]
    }
   ],
   "source": [
    "for k, v in l.items():\n",
    "    if v[0] != 'Points':\n",
    "        print(k, total[k]['xoxno']['Game Info']['Level'], total[k]['verko']['gameData'][0]['dynamicData']['level'])"
   ]
  },
  {
   "cell_type": "code",
   "execution_count": 112,
   "metadata": {},
   "outputs": [],
   "source": [
    "with open('errors.txt', 'w') as f:\n",
    "    for item in l:\n",
    "        f.write(item + '\\n')"
   ]
  }
 ],
 "metadata": {
  "kernelspec": {
   "display_name": "stable",
   "language": "python",
   "name": "python3"
  },
  "language_info": {
   "codemirror_mode": {
    "name": "ipython",
    "version": 3
   },
   "file_extension": ".py",
   "mimetype": "text/x-python",
   "name": "python",
   "nbconvert_exporter": "python",
   "pygments_lexer": "ipython3",
   "version": "3.11.5"
  }
 },
 "nbformat": 4,
 "nbformat_minor": 2
}
