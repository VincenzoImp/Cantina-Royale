{
 "cells": [
  {
   "cell_type": "code",
   "execution_count": 3,
   "metadata": {},
   "outputs": [],
   "source": [
    "from selenium import webdriver\n",
    "from selenium.webdriver.common.by import By\n",
    "from tqdm import tqdm\n",
    "import time\n",
    "import json\n",
    "import requests"
   ]
  },
  {
   "cell_type": "code",
   "execution_count": 6,
   "metadata": {},
   "outputs": [],
   "source": [
    "with open('CRWEAPONS-e5ab49_xoxno.json', 'r') as f:\n",
    "    data = json.load(f)"
   ]
  },
  {
   "cell_type": "code",
   "execution_count": 7,
   "metadata": {},
   "outputs": [
    {
     "name": "stderr",
     "output_type": "stream",
     "text": [
      "  0%|          | 0/263 [00:00<?, ?it/s]"
     ]
    },
    {
     "name": "stderr",
     "output_type": "stream",
     "text": [
      "100%|██████████| 263/263 [11:45<00:00,  2.68s/it]\n"
     ]
    }
   ],
   "source": [
    "driver = webdriver.Firefox()\n",
    "for k, v in tqdm(data.copy().items()):\n",
    "    url = f'https://explorer.multiversx.com/nfts/{k}'\n",
    "    driver.get(url)\n",
    "    time.sleep(1)\n",
    "    for row in driver.find_elements(By.CLASS_NAME, 'detail-item'):\n",
    "        l = row.text.split('\\n')\n",
    "        if l[0] == 'Nonce':\n",
    "            data[k]['nonce'] = int(l[1])\n",
    "        if l[0] == 'Assets':\n",
    "            data[k]['metadata'] = l[2]\n",
    "            data[k]['dynamic'] = l[3]\n",
    "driver.close()"
   ]
  },
  {
   "cell_type": "code",
   "execution_count": 8,
   "metadata": {},
   "outputs": [],
   "source": [
    "with open('CRWEAPONS-e5ab49_xoxno.json', 'w') as f:\n",
    "    json.dump(data, f, indent=4)"
   ]
  },
  {
   "cell_type": "code",
   "execution_count": 9,
   "metadata": {},
   "outputs": [
    {
     "name": "stderr",
     "output_type": "stream",
     "text": [
      "  0%|          | 0/263 [00:00<?, ?it/s]"
     ]
    },
    {
     "name": "stderr",
     "output_type": "stream",
     "text": [
      "100%|██████████| 263/263 [09:59<00:00,  2.28s/it]\n"
     ]
    }
   ],
   "source": [
    "for k, v in tqdm(data.copy().items()):\n",
    "    if data[k].get('nonce') is None:\n",
    "        continue\n",
    "    if data[k].get('metadata_dict') is not None:\n",
    "        continue\n",
    "    else:\n",
    "        time.sleep(1)\n",
    "        r = requests.get(data[k]['metadata'])\n",
    "        data[k]['metadata_dict'] = r.json()\n",
    "    if data[k].get('dynamic_dict') is not None:\n",
    "        continue\n",
    "    else:\n",
    "        time.sleep(1)\n",
    "        r = requests.get(data[k]['dynamic'])\n",
    "        data[k]['dynamic_dict'] = r.json()"
   ]
  },
  {
   "cell_type": "code",
   "execution_count": 10,
   "metadata": {},
   "outputs": [],
   "source": [
    "with open('CRWEAPONS-e5ab49_xoxno.json', 'w') as f:\n",
    "    json.dump(data, f, indent=4)"
   ]
  }
 ],
 "metadata": {
  "kernelspec": {
   "display_name": "stable",
   "language": "python",
   "name": "python3"
  },
  "language_info": {
   "codemirror_mode": {
    "name": "ipython",
    "version": 3
   },
   "file_extension": ".py",
   "mimetype": "text/x-python",
   "name": "python",
   "nbconvert_exporter": "python",
   "pygments_lexer": "ipython3",
   "version": "3.9.16"
  }
 },
 "nbformat": 4,
 "nbformat_minor": 2
}
