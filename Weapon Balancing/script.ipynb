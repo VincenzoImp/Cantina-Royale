{
 "cells": [
  {
   "cell_type": "code",
   "execution_count": 17,
   "metadata": {},
   "outputs": [],
   "source": [
    "import pandas as pd\n",
    "import json"
   ]
  },
  {
   "cell_type": "code",
   "execution_count": 18,
   "metadata": {},
   "outputs": [],
   "source": [
    "def traslate(answare):\n",
    "    d = {\n",
    "        'Need a big buff':+2,\n",
    "        'Need a buff':+1,\n",
    "        'Is balanced':0,\n",
    "        'No opinion':0,\n",
    "        'Need a nerf':-1,\n",
    "        'Need a big nerf':-2\n",
    "    }\n",
    "    return d[answare]"
   ]
  },
  {
   "cell_type": "code",
   "execution_count": 19,
   "metadata": {},
   "outputs": [],
   "source": [
    "def evaluate(filename_in, fixed_perc):\n",
    "    df = pd.read_csv(filename_in)\n",
    "    df = df.drop(columns=['Horodateur', 'Nickname', 'Comments'])\n",
    "    d = {col: {'tot':0, '#':0} for col in df.columns}\n",
    "    for _, row in df.iterrows():\n",
    "        for col in d.keys():\n",
    "            if traslate(row[col]) != 0:\n",
    "                d[col]['tot'] += traslate(row[col])*fixed_perc\n",
    "                d[col]['#'] += 1\n",
    "    results = {k : v['tot']/v['#'] for k, v in d.items()}\n",
    "    new_results = {}\n",
    "    for k, v in results.items():\n",
    "        tup = k.split(' [')\n",
    "        tup[1] = tup[1][:-1]\n",
    "        k1, k2 = tup\n",
    "        if k1 not in new_results.keys():\n",
    "            new_results[k1] = {}\n",
    "        new_results[k1][k2] = v\n",
    "    filename_out = 'results_{}.json'.format(fixed_perc)\n",
    "    with open(filename_out, 'w') as f:\n",
    "        json.dump(new_results, f, indent=4)\n",
    "    return"
   ]
  },
  {
   "cell_type": "code",
   "execution_count": 20,
   "metadata": {},
   "outputs": [],
   "source": [
    "filename_in = 'Cantina Royale weapons balancing survey.csv'"
   ]
  },
  {
   "cell_type": "code",
   "execution_count": 21,
   "metadata": {},
   "outputs": [],
   "source": [
    "evaluate(filename_in, 5)\n",
    "evaluate(filename_in, 10)"
   ]
  }
 ],
 "metadata": {
  "kernelspec": {
   "display_name": "Python 3.9.13 ('stable')",
   "language": "python",
   "name": "python3"
  },
  "language_info": {
   "codemirror_mode": {
    "name": "ipython",
    "version": 3
   },
   "file_extension": ".py",
   "mimetype": "text/x-python",
   "name": "python",
   "nbconvert_exporter": "python",
   "pygments_lexer": "ipython3",
   "version": "3.9.13"
  },
  "orig_nbformat": 4,
  "vscode": {
   "interpreter": {
    "hash": "731c43eb56f848c5bca9de05efde814bd49b40cfac306b2f8be57987981a1007"
   }
  }
 },
 "nbformat": 4,
 "nbformat_minor": 2
}
