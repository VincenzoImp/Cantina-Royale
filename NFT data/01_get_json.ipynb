{
 "cells": [
  {
   "cell_type": "code",
   "execution_count": 12,
   "metadata": {},
   "outputs": [],
   "source": [
    "import requests \n",
    "import time\n",
    "from tqdm import tqdm\n",
    "import json\n",
    "from fake_useragent import UserAgent"
   ]
  },
  {
   "cell_type": "code",
   "execution_count": 17,
   "metadata": {},
   "outputs": [],
   "source": [
    "collection = 'CEA-2d29f9'\n",
    "sleep_time = 0.4"
   ]
  },
  {
   "cell_type": "code",
   "execution_count": 14,
   "metadata": {},
   "outputs": [],
   "source": [
    "url = f'https://api.elrond.com/collections/{collection}'\n",
    "collection_info = requests.get(url).json()"
   ]
  },
  {
   "cell_type": "code",
   "execution_count": 15,
   "metadata": {},
   "outputs": [],
   "source": [
    "# nftCount = collection_info['nftCount']\n",
    "nftCount = 2043\n",
    "nfts = {}"
   ]
  },
  {
   "cell_type": "code",
   "execution_count": 21,
   "metadata": {},
   "outputs": [
    {
     "name": "stderr",
     "output_type": "stream",
     "text": [
      "100%|██████████| 2043/2043 [00:00<00:00, 960215.49it/s]\n"
     ]
    }
   ],
   "source": [
    "for index in tqdm(range(1, nftCount+1)):\n",
    "    if len(hex(index)) % 2 == 1:\n",
    "        hex_index = '0'+hex(index)[2:]\n",
    "    else:\n",
    "        hex_index = hex(index)[2:]\n",
    "    identifier = collection + '-' + hex_index\n",
    "    if identifier in nfts:\n",
    "        continue\n",
    "    time.sleep(sleep_time)\n",
    "    url = f'https://api.elrond.com/nfts/{identifier}'\n",
    "    user_agent = UserAgent().random\n",
    "    headers = {'User-Agent': user_agent}\n",
    "    nfts[identifier] = requests.get(url, headers=headers).json()"
   ]
  },
  {
   "cell_type": "code",
   "execution_count": 22,
   "metadata": {},
   "outputs": [],
   "source": [
    "with open(f'{collection}_info.json', 'w') as f:\n",
    "    json.dump(collection_info, f, indent=4)\n",
    "with open(f'{collection}_nfts.json', 'w') as f:\n",
    "    json.dump(nfts, f, indent=4)"
   ]
  }
 ],
 "metadata": {
  "kernelspec": {
   "display_name": "stable",
   "language": "python",
   "name": "python3"
  },
  "language_info": {
   "codemirror_mode": {
    "name": "ipython",
    "version": 3
   },
   "file_extension": ".py",
   "mimetype": "text/x-python",
   "name": "python",
   "nbconvert_exporter": "python",
   "pygments_lexer": "ipython3",
   "version": "3.11.5"
  }
 },
 "nbformat": 4,
 "nbformat_minor": 2
}
