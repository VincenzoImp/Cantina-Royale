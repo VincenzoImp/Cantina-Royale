{
 "cells": [
  {
   "cell_type": "code",
   "execution_count": 20,
   "metadata": {},
   "outputs": [],
   "source": [
    "import requests \n",
    "import time\n",
    "from tqdm import tqdm\n",
    "import json"
   ]
  },
  {
   "cell_type": "code",
   "execution_count": 52,
   "metadata": {},
   "outputs": [],
   "source": [
    "collection = 'GSPACEAPE-08bc2b'\n",
    "sleep_time = 0.4"
   ]
  },
  {
   "cell_type": "code",
   "execution_count": 22,
   "metadata": {},
   "outputs": [],
   "source": [
    "url = f'https://api.elrond.com/collections/{collection}'\n",
    "collection_info = requests.get(url).json()"
   ]
  },
  {
   "cell_type": "code",
   "execution_count": 4,
   "metadata": {},
   "outputs": [],
   "source": [
    "nftCount = collection_info['nftCount']\n",
    "nfts = {}"
   ]
  },
  {
   "cell_type": "code",
   "execution_count": 87,
   "metadata": {},
   "outputs": [
    {
     "name": "stderr",
     "output_type": "stream",
     "text": [
      "100%|██████████| 14166/14166 [00:00<00:00, 766486.63it/s]\n"
     ]
    }
   ],
   "source": [
    "for index in tqdm(range(1, nftCount+1)):\n",
    "    if len(hex(index)) % 2 == 1:\n",
    "        hex_index = '0'+hex(index)[2:]\n",
    "    else:\n",
    "        hex_index = hex(index)[2:]\n",
    "    identifier = collection + '-' + hex_index\n",
    "    if identifier in nfts:\n",
    "        continue\n",
    "    time.sleep(sleep_time)\n",
    "    url = f'https://api.elrond.com/nfts/{identifier}'\n",
    "    nfts[identifier] = requests.get(url).json()"
   ]
  },
  {
   "cell_type": "code",
   "execution_count": 88,
   "metadata": {},
   "outputs": [],
   "source": [
    "with open(f'{collection}_info.json', 'w') as f:\n",
    "    json.dump(collection_info, f, indent=4)\n",
    "with open(f'{collection}_nfts.json', 'w') as f:\n",
    "    json.dump(nfts, f, indent=4)"
   ]
  }
 ],
 "metadata": {
  "kernelspec": {
   "display_name": "stable",
   "language": "python",
   "name": "python3"
  },
  "language_info": {
   "codemirror_mode": {
    "name": "ipython",
    "version": 3
   },
   "file_extension": ".py",
   "mimetype": "text/x-python",
   "name": "python",
   "nbconvert_exporter": "python",
   "pygments_lexer": "ipython3",
   "version": "3.11.5"
  }
 },
 "nbformat": 4,
 "nbformat_minor": 2
}
