{
 "cells": [
  {
   "cell_type": "code",
   "execution_count": 1,
   "metadata": {},
   "outputs": [],
   "source": [
    "import requests \n",
    "import time\n",
    "from tqdm import tqdm\n",
    "import json\n",
    "import pandas as pd\n",
    "import os"
   ]
  },
  {
   "cell_type": "code",
   "execution_count": 59,
   "metadata": {},
   "outputs": [],
   "source": [
    "collection = 'GSPACEAPE-08bc2b'\n",
    "chunk_size = 50\n",
    "sleep_time = 0.4"
   ]
  },
  {
   "cell_type": "code",
   "execution_count": 3,
   "metadata": {},
   "outputs": [],
   "source": [
    "data = pd.read_csv(f'{collection}_nfts.csv')"
   ]
  },
  {
   "cell_type": "code",
   "execution_count": 4,
   "metadata": {},
   "outputs": [],
   "source": [
    "if f'{collection}_transactions.json' in os.listdir():\n",
    "    with open(f'{collection}_transactions.json', 'r') as f:\n",
    "        transactions_data = json.load(f)\n",
    "else:\n",
    "    transactions_data = {}"
   ]
  },
  {
   "cell_type": "code",
   "execution_count": 66,
   "metadata": {},
   "outputs": [
    {
     "name": "stderr",
     "output_type": "stream",
     "text": [
      "100%|██████████| 14166/14166 [00:00<00:00, 23649.70it/s]\n"
     ]
    }
   ],
   "source": [
    "for _, nft in tqdm(data.iterrows(), total=data.shape[0]):\n",
    "    identifier = nft['identifier']\n",
    "    if identifier in transactions_data and transactions_data[identifier]['count'] == len(transactions_data[identifier]['transactions']):\n",
    "        continue\n",
    "    transactions_data[identifier] = {\n",
    "        'count': -1,\n",
    "        'transactions': []\n",
    "    }\n",
    "    time.sleep(sleep_time)\n",
    "    url = f'https://api.elrond.com/nfts/{identifier}/transactions/count'\n",
    "    count = requests.get(url).json()\n",
    "    transactions_data[identifier]['count'] = count\n",
    "    for index in range(0, count, chunk_size):\n",
    "        time.sleep(sleep_time)\n",
    "        url = f'https://api.elrond.com/nfts/{identifier}/transactions?from={index}&size={chunk_size}'\n",
    "        transactions_data[identifier]['transactions'] += requests.get(url).json()"
   ]
  },
  {
   "cell_type": "code",
   "execution_count": 67,
   "metadata": {},
   "outputs": [],
   "source": [
    "with open(f'{collection}_transactions.json', 'w') as f:\n",
    "    json.dump(transactions_data, f, indent=4)"
   ]
  },
  {
   "cell_type": "code",
   "execution_count": 68,
   "metadata": {},
   "outputs": [
    {
     "data": {
      "text/plain": [
       "110566"
      ]
     },
     "execution_count": 68,
     "metadata": {},
     "output_type": "execute_result"
    }
   ],
   "source": [
    "c = 0 \n",
    "for identifier in transactions_data:\n",
    "    c += transactions_data[identifier]['count']\n",
    "c"
   ]
  }
 ],
 "metadata": {
  "kernelspec": {
   "display_name": "stable",
   "language": "python",
   "name": "python3"
  },
  "language_info": {
   "codemirror_mode": {
    "name": "ipython",
    "version": 3
   },
   "file_extension": ".py",
   "mimetype": "text/x-python",
   "name": "python",
   "nbconvert_exporter": "python",
   "pygments_lexer": "ipython3",
   "version": "3.11.5"
  }
 },
 "nbformat": 4,
 "nbformat_minor": 2
}
