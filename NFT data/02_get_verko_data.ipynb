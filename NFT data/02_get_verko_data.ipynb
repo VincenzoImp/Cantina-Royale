{
 "cells": [
  {
   "cell_type": "code",
   "execution_count": 1,
   "metadata": {},
   "outputs": [],
   "source": [
    "import json\n",
    "from fake_useragent import UserAgent\n",
    "import requests\n",
    "from tqdm import tqdm"
   ]
  },
  {
   "cell_type": "code",
   "execution_count": 2,
   "metadata": {},
   "outputs": [],
   "source": [
    "filename = 'GSPACEAPE-08bc2b/GSPACEAPE-08bc2b_nfts.json'\n",
    "with open(filename) as f:\n",
    "    data = json.load(f)"
   ]
  },
  {
   "cell_type": "code",
   "execution_count": 3,
   "metadata": {},
   "outputs": [
    {
     "name": "stderr",
     "output_type": "stream",
     "text": [
      "100%|██████████| 14166/14166 [00:00<00:00, 1448405.99it/s]\n"
     ]
    }
   ],
   "source": [
    "for nft in tqdm(data):\n",
    "    if 'verko' in data[nft]:\n",
    "        continue\n",
    "    verko_url = data[nft]['metadata']['stats']\n",
    "    user_agent = UserAgent().random\n",
    "    headers = {'User-Agent': user_agent}\n",
    "    response = requests.get(verko_url, headers=headers)\n",
    "    data[nft]['verko'] = response.json()"
   ]
  },
  {
   "cell_type": "code",
   "execution_count": 4,
   "metadata": {},
   "outputs": [],
   "source": [
    "with open(filename, 'w') as f:\n",
    "    json.dump(data, f, indent=4)"
   ]
  }
 ],
 "metadata": {
  "kernelspec": {
   "display_name": "stable",
   "language": "python",
   "name": "python3"
  },
  "language_info": {
   "codemirror_mode": {
    "name": "ipython",
    "version": 3
   },
   "file_extension": ".py",
   "mimetype": "text/x-python",
   "name": "python",
   "nbconvert_exporter": "python",
   "pygments_lexer": "ipython3",
   "version": "3.11.5"
  }
 },
 "nbformat": 4,
 "nbformat_minor": 2
}
